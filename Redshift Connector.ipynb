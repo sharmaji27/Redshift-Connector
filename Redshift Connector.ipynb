{
 "cells": [
  {
   "cell_type": "code",
   "execution_count": null,
   "metadata": {},
   "outputs": [],
   "source": [
    "import botocore.session as s\n",
    "from botocore.exceptions import ClientError\n",
    "import boto3.session\n",
    "import json\n",
    "import boto3\n",
    "\n",
    "from botocore.exceptions import WaiterError\n",
    "from botocore.waiter import WaiterModel\n",
    "from botocore.waiter import create_waiter_with_client\n",
    "\n",
    "import pandas as pd"
   ]
  },
  {
   "cell_type": "code",
   "execution_count": null,
   "metadata": {},
   "outputs": [],
   "source": [
    "# Create custom waiter for the Redshift Data API to wait for finish execution of current SQL statement\n",
    "waiter_name = 'DataAPIExecution'\n",
    "\n",
    "delay=2\n",
    "max_attempts=3\n",
    "\n",
    "#Configure the waiter settings\n",
    "waiter_config = {\n",
    "  'version': 2,\n",
    "  'waiters': {\n",
    "    'DataAPIExecution': {\n",
    "      'operation': 'DescribeStatement',\n",
    "      'delay': delay,\n",
    "      'maxAttempts': max_attempts,\n",
    "      'acceptors': [\n",
    "        {\n",
    "          \"matcher\": \"path\",\n",
    "          \"expected\": \"FINISHED\",\n",
    "          \"argument\": \"Status\",\n",
    "          \"state\": \"success\"\n",
    "        },\n",
    "        {\n",
    "          \"matcher\": \"pathAny\",\n",
    "          \"expected\": [\"PICKED\",\"STARTED\",\"SUBMITTED\"],\n",
    "          \"argument\": \"Status\",\n",
    "          \"state\": \"retry\"\n",
    "        },\n",
    "        {\n",
    "          \"matcher\": \"pathAny\",\n",
    "          \"expected\": [\"FAILED\",\"ABORTED\"],\n",
    "          \"argument\": \"Status\",\n",
    "          \"state\": \"failure\"\n",
    "        }\n",
    "      ],\n",
    "    },\n",
    "  },\n",
    "}"
   ]
  },
  {
   "cell_type": "markdown",
   "metadata": {},
   "source": [
    "## Retrieve DB details from AWS Secrets Manager\n",
    "We need to retrieve from AWS Secrets Manager-\n",
    "* Cluster Identifier\n",
    "* Secrets ARN\n",
    "* Database name"
   ]
  },
  {
   "cell_type": "code",
   "execution_count": null,
   "metadata": {},
   "outputs": [],
   "source": [
    "secret_name='mysecret' ## replace the secret name with yours\n",
    "session = boto3.session.Session()\n",
    "region = session.region_name\n",
    "\n",
    "client = session.client(\n",
    "        service_name='secretsmanager',\n",
    "        region_name=region\n",
    "    )\n",
    "\n",
    "try:\n",
    "    get_secret_value_response = client.get_secret_value(\n",
    "            SecretId=secret_name\n",
    "        )\n",
    "    secret_arn=get_secret_value_response['ARN']\n",
    "\n",
    "except ClientError as e:\n",
    "    print(\"Error retrieving secret. Error: \" + e.response['Error']['Message'])\n",
    "    \n",
    "else:\n",
    "    # Depending on whether the secret is a string or binary, one of these fields will be populated.\n",
    "    if 'SecretString' in get_secret_value_response:\n",
    "        secret = get_secret_value_response['SecretString']\n",
    "    else:\n",
    "        secret = base64.b64decode(get_secret_value_response['SecretBinary'])\n",
    "            \n",
    "secret_json = json.loads(secret)\n",
    "print(secret_json)\n",
    "\n",
    "cluster_id=secret_json['dbClusterIdentifier']\n",
    "db=secret_json['db']\n",
    "print(\"Cluster_id: \" + cluster_id + \"\\nDB: \" + db + \"\\nSecret ARN: \" + secret_arn)"
   ]
  },
  {
   "cell_type": "markdown",
   "metadata": {},
   "source": [
    "We will create the Data API client. For the rest of the notebook we will use this Data API client `client_redshift`."
   ]
  },
  {
   "cell_type": "code",
   "execution_count": null,
   "metadata": {},
   "outputs": [],
   "source": [
    "bc_session = s.get_session()\n",
    "\n",
    "session = boto3.Session(\n",
    "        botocore_session=bc_session,\n",
    "        region_name=region,\n",
    "    )\n",
    "\n",
    "# Setup the client\n",
    "client_redshift = session.client(\"redshift-data\")\n",
    "print(\"Data API client successfully loaded\")"
   ]
  },
  {
   "cell_type": "markdown",
   "metadata": {},
   "source": [
    "## Initiating Waiter\n",
    "Initiating the custom waiter for subseqent `execute_statement` Data API call to return FINISHED signal."
   ]
  },
  {
   "cell_type": "code",
   "execution_count": null,
   "metadata": {},
   "outputs": [],
   "source": [
    "waiter_model = WaiterModel(waiter_config)\n",
    "custom_waiter = create_waiter_with_client(waiter_name, waiter_model, client_redshift)"
   ]
  },
  {
   "cell_type": "code",
   "execution_count": null,
   "metadata": {},
   "outputs": [],
   "source": [
    "query_str = 'select drugprimaryname,drugnamesynonyms from \"masterdb\".\"raw\".raw_drugs'"
   ]
  },
  {
   "cell_type": "code",
   "execution_count": null,
   "metadata": {},
   "outputs": [],
   "source": [
    "res = client_redshift.execute_statement(Database= db, SecretArn= secret_arn, Sql= query_str, ClusterIdentifier= cluster_id)\n",
    "id = res[\"Id\"]\n",
    "\n",
    "try:\n",
    "    custom_waiter.wait(Id=id)\n",
    "    print(\"Done waiting to finish Data API.\")\n",
    "except WaiterError as e:\n",
    "    print (e)\n",
    "    \n",
    "desc=client_redshift.describe_statement(Id=id)\n",
    "print(\"Status: \" + desc[\"Status\"] + \". Excution time: %d miliseconds\" %float(desc[\"Duration\"]/pow(10,6)))\n",
    "\n",
    "output=client_redshift.get_statement_result(Id=id)\n",
    "print('Result Extracted Successfully!!!')"
   ]
  },
  {
   "cell_type": "code",
   "execution_count": null,
   "metadata": {},
   "outputs": [],
   "source": [
    "## Getting column names\n",
    "cols = []\n",
    "for i in output['ColumnMetadata']:\n",
    "    cols.append(i['label'])\n",
    "    \n",
    "\n",
    "## Extracting records\n",
    "l = []\n",
    "for i in range(len(output['Records'])):\n",
    "    temp = []\n",
    "    for j in output['Records'][i]:\n",
    "        temp.append(j['stringValue'])\n",
    "    l.append(temp)\n",
    "    \n",
    "## Creating Dataframe\n",
    "df = pd.DataFrame(l,columns=cols)\n",
    "df.head(10)"
   ]
  },
  {
   "cell_type": "code",
   "execution_count": null,
   "metadata": {},
   "outputs": [],
   "source": []
  }
 ],
 "metadata": {
  "kernelspec": {
   "display_name": "conda_python3",
   "language": "python",
   "name": "conda_python3"
  },
  "language_info": {
   "codemirror_mode": {
    "name": "ipython",
    "version": 3
   },
   "file_extension": ".py",
   "mimetype": "text/x-python",
   "name": "python",
   "nbconvert_exporter": "python",
   "pygments_lexer": "ipython3",
   "version": "3.8.12"
  }
 },
 "nbformat": 4,
 "nbformat_minor": 4
}
